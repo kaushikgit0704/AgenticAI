{
 "cells": [
  {
   "cell_type": "code",
   "execution_count": null,
   "id": "a457f110",
   "metadata": {},
   "outputs": [],
   "source": [
    "from dotenv import load_dotenv\n",
    "from openai import OpenAI\n",
    "from agents import Agent, Runner, trace, function_tool\n",
    "import gradio as gr"
   ]
  },
  {
   "cell_type": "code",
   "execution_count": null,
   "id": "271e838b",
   "metadata": {},
   "outputs": [],
   "source": [
    "load_dotenv(override=True)"
   ]
  },
  {
   "cell_type": "code",
   "execution_count": null,
   "id": "980d14ee",
   "metadata": {},
   "outputs": [],
   "source": [
    "jobdesc = \"My team needs an expert developer who has extensive knowledge on dot net programming and AWS concepts. \\\n",
    "    The developer should be proficient in oops concept and possess strong understanding of software design principals.\"\n",
    "\n",
    "criteria = \"The candidate should have at least 5 years of experience in software developement.\""
   ]
  },
  {
   "cell_type": "code",
   "execution_count": null,
   "id": "a1a2d19a",
   "metadata": {},
   "outputs": [],
   "source": [
    "interviewer_system_prompt = f\"Your name is Techy, you are a technical guru working for Cognizant Technology Solutions pvt Limited. \\\n",
    "    Your job is to interview prospective cadidates on their technical skills based on given job description {jobdesc}. \\\n",
    "    You must interview candidates based on the criteria {criteria}. \\\n",
    "    For subsequent conversation you must address the candidate by the name. \\\n",
    "    You must validate the technical and programming skill of the candidate on the technologies mentioned in the {jobdesc} and the {criteria} \\\n",
    "    You do not need to provide immediate feedback to the candidate for each of the answers whether they are correct or wrong. Just record the answers for each of the question and store them in a file named 'evaluation.txt'. \\\n",
    "    You need to evaluate the answers based on the concepts, actual wordings can differ. \\\n",
    "    You should ask at least 5 technical question on Dot Net and Python concepts. \\\n",
    "    If the candidate can answer 3 or more questions correctly then you can ask more questions but not more than 10 questions. Otherwise you can end the interview. \\\n",
    "    You must end the interview as soon as the candidate says something nasty to you. \\\n",
    "    You must initiate the conversation.\""
   ]
  },
  {
   "cell_type": "code",
   "execution_count": null,
   "id": "f2e2ab76",
   "metadata": {},
   "outputs": [],
   "source": [
    "openai = OpenAI()"
   ]
  },
  {
   "cell_type": "code",
   "execution_count": null,
   "id": "5597eac7",
   "metadata": {},
   "outputs": [],
   "source": [
    "techy = []\n",
    "candidate = []"
   ]
  },
  {
   "cell_type": "code",
   "execution_count": null,
   "id": "c3c3d59f",
   "metadata": {},
   "outputs": [],
   "source": [
    "def chat(message, history):   \n",
    "    messages = [{'role':'system', 'content':interviewer_system_prompt}] + history + [{'role':'user', 'content':message}]\n",
    "    response = openai.chat.completions.create(\n",
    "        model='gpt-4o-mini',\n",
    "        messages=messages\n",
    "    )\n",
    "    reply = response.choices[0].message.content\n",
    "    techy.append(reply)\n",
    "    candidate.append(message)\n",
    "    return reply"
   ]
  },
  {
   "cell_type": "code",
   "execution_count": null,
   "id": "ab74d29b",
   "metadata": {},
   "outputs": [],
   "source": [
    "greetings = \"Hello! Welcome to the interview. \\\n",
    "    My name is Techy, and I work for Cognizant Technology Solutions Pvt Limited. \\\n",
    "    I’ll be conducting your technical interview today. \\\n",
    "    To start off, could you please tell me your name?\""
   ]
  },
  {
   "cell_type": "code",
   "execution_count": null,
   "id": "1758e718",
   "metadata": {},
   "outputs": [],
   "source": [
    "gr.ChatInterface(chat, type='messages').launch()"
   ]
  },
  {
   "cell_type": "code",
   "execution_count": null,
   "id": "fba317cb",
   "metadata": {},
   "outputs": [],
   "source": [
    "candidate = candidate[1:]"
   ]
  },
  {
   "cell_type": "code",
   "execution_count": null,
   "id": "fb011dbb",
   "metadata": {},
   "outputs": [],
   "source": [
    "candidate_messages = []\n",
    "for item in candidate:\n",
    "    candidate_messages.append('(candidate) ' + item)\n",
    "    "
   ]
  },
  {
   "cell_type": "code",
   "execution_count": null,
   "id": "85b22b71",
   "metadata": {},
   "outputs": [],
   "source": [
    "techy_messages = []\n",
    "for item in techy:\n",
    "    techy_messages.append('(techy) ' + item)"
   ]
  },
  {
   "cell_type": "code",
   "execution_count": null,
   "id": "d4f670fa",
   "metadata": {},
   "outputs": [],
   "source": [
    "techy_messages"
   ]
  },
  {
   "cell_type": "code",
   "execution_count": null,
   "id": "c7d61bb5",
   "metadata": {},
   "outputs": [],
   "source": [
    "candidate_messages"
   ]
  },
  {
   "cell_type": "code",
   "execution_count": null,
   "id": "1b21e2d2",
   "metadata": {},
   "outputs": [],
   "source": [
    "total_conversation = zip(techy_messages, candidate_messages)"
   ]
  },
  {
   "cell_type": "code",
   "execution_count": null,
   "id": "d6b7460f",
   "metadata": {},
   "outputs": [],
   "source": [
    "for item in total_conversation:\n",
    "    print(item[0])\n",
    "    "
   ]
  },
  {
   "cell_type": "code",
   "execution_count": null,
   "id": "9ae69fca",
   "metadata": {},
   "outputs": [],
   "source": [
    "with open('conversation.txt', 'w') as file_obj:\n",
    "    file_obj.write('\\n'.join('{} \\n\\n\\n {}'.format(item[0], item[1]) for item in total_conversation))"
   ]
  },
  {
   "cell_type": "code",
   "execution_count": null,
   "id": "528a1e53",
   "metadata": {},
   "outputs": [],
   "source": [
    "@function_tool\n",
    "def get_interview_log():\n",
    "    with open('conversation.txt', 'r', encoding='utf-8') as f:\n",
    "        return f.read()"
   ]
  },
  {
   "cell_type": "code",
   "execution_count": null,
   "id": "819a75c8",
   "metadata": {},
   "outputs": [],
   "source": [
    "evaluator_instruction = \"\"\"\n",
    "        You are a technical interview evaluator. You will be given the content of a technical interview between an interviewer and a candidate.\n",
    "        Use the `get_interview_log` tool to access the file content. Then analyze the candidate's answers and provide:\n",
    "\n",
    "        - Strengths\n",
    "        - Weaknesses\n",
    "        - Communication Skills\n",
    "        - Technical Knowledge\n",
    "        - Rank the performance on the scale of 1 to 5 where 1 is for worst performance and 5 is for berst performance.\n",
    "\n",
    "        Format your response as a detailed evaluation report.\n",
    "        \"\"\""
   ]
  },
  {
   "cell_type": "code",
   "execution_count": null,
   "id": "6abbf0fa",
   "metadata": {},
   "outputs": [],
   "source": [
    "evaluator_agent = Agent(\n",
    "    name='Evaluator Agent',\n",
    "    instructions=evaluator_instruction,\n",
    "    model='gpt-4o-mini',\n",
    "    tools=[get_interview_log]\n",
    ")\n"
   ]
  },
  {
   "cell_type": "code",
   "execution_count": null,
   "id": "1f528c54",
   "metadata": {},
   "outputs": [],
   "source": [
    "message = \"Evaluate the technical interview from the interview log in the file 'conversation.txt'\"\n",
    "\n",
    "with trace('Automated Technical Evaluation'):\n",
    "    result = await Runner.run(evaluator_agent, message)"
   ]
  },
  {
   "cell_type": "code",
   "execution_count": null,
   "id": "97df55e9",
   "metadata": {},
   "outputs": [],
   "source": [
    "print(result.final_output)"
   ]
  },
  {
   "cell_type": "code",
   "execution_count": null,
   "id": "47696ca6",
   "metadata": {},
   "outputs": [],
   "source": []
  }
 ],
 "metadata": {
  "kernelspec": {
   "display_name": "agents",
   "language": "python",
   "name": "python3"
  },
  "language_info": {
   "codemirror_mode": {
    "name": "ipython",
    "version": 3
   },
   "file_extension": ".py",
   "mimetype": "text/x-python",
   "name": "python",
   "nbconvert_exporter": "python",
   "pygments_lexer": "ipython3",
   "version": "3.12.10"
  }
 },
 "nbformat": 4,
 "nbformat_minor": 5
}
