{
 "cells": [
  {
   "cell_type": "code",
   "execution_count": 1,
   "id": "62fb4c67",
   "metadata": {},
   "outputs": [],
   "source": [
    "from dotenv import load_dotenv\n",
    "from agents import Agent, Runner, trace, function_tool"
   ]
  },
  {
   "cell_type": "code",
   "execution_count": 2,
   "id": "5d032d6b",
   "metadata": {},
   "outputs": [
    {
     "data": {
      "text/plain": [
       "True"
      ]
     },
     "execution_count": 2,
     "metadata": {},
     "output_type": "execute_result"
    }
   ],
   "source": [
    "load_dotenv(override=True)"
   ]
  },
  {
   "cell_type": "code",
   "execution_count": 3,
   "id": "2ac39951",
   "metadata": {},
   "outputs": [],
   "source": [
    "agent_instruction1 = \"You are a sales agent working in ComplAI \\\n",
    "     a company that provides a SaaS tool for ensuring SOC2 compliance and preparing for audits, powered by AI \\\n",
    "     You write professional, serious cold emails.\"\n",
    "\n",
    "agent_instruction2 = \"You are a sales agent working in ComplAI \\\n",
    "    a company that provides a Saas tool for ensurimg SOC2 compliance and preparing for audits, powered by AI \\\n",
    "    You write witty, engaging cold emails\"\n",
    "\n",
    "agent_instruction3 = \"You are a sales agent working in ComplAI \\\n",
    "    a company that provides a Saas tool for ensurimg SOC2 compliance and preparing for audits, powered by AI \\\n",
    "    You write concise, to the point cold emails\""
   ]
  },
  {
   "cell_type": "code",
   "execution_count": 4,
   "id": "1b1bce75",
   "metadata": {},
   "outputs": [],
   "source": [
    "sales_agent1 = Agent(\n",
    "    name = 'Professional sales agent',\n",
    "    instructions = agent_instruction1,\n",
    "    model = 'gpt-4o-mini'\n",
    ")\n",
    "\n",
    "sales_agent2 = Agent(\n",
    "    name = 'Engaging sales agent',\n",
    "    instructions = agent_instruction2,\n",
    "    model = 'gpt-4o-mini'\n",
    ")\n",
    "\n",
    "sales_agent3 = Agent(\n",
    "    name = 'Busy sales agent',\n",
    "    instructions = agent_instruction3,\n",
    "    model = 'gpt-4o-mini'\n",
    ")"
   ]
  },
  {
   "cell_type": "code",
   "execution_count": 5,
   "id": "6e448a00",
   "metadata": {},
   "outputs": [],
   "source": [
    "description = 'Write a cold sales email'\n",
    "tool1 = sales_agent1.as_tool(tool_name='sales-agent-1', tool_description=description)\n",
    "tool2 = sales_agent2.as_tool(tool_name='sales-agent-2', tool_description=description)\n",
    "tool3 = sales_agent3.as_tool(tool_name='sales-agent-3', tool_description=description)"
   ]
  },
  {
   "cell_type": "code",
   "execution_count": 6,
   "id": "b1694c71",
   "metadata": {},
   "outputs": [],
   "source": [
    "@function_tool\n",
    "def save_to_html_file(content: str, filename: str = \"output.html\"):\n",
    "    try:\n",
    "        with open(filename, \"w\", encoding=\"utf-8\") as file:\n",
    "            file.write(content)\n",
    "        print(f\"Content successfully written to {filename}\")\n",
    "    except Exception as e:\n",
    "        print(f\"An error occurred while writing to the file: {e}\")"
   ]
  },
  {
   "cell_type": "code",
   "execution_count": 7,
   "id": "54ad45c6",
   "metadata": {},
   "outputs": [
    {
     "data": {
      "text/plain": [
       "FunctionTool(name='save_to_html_file', description='', params_json_schema={'properties': {'content': {'title': 'Content', 'type': 'string'}, 'filename': {'default': 'output.html', 'title': 'Filename', 'type': 'string'}}, 'required': ['content', 'filename'], 'title': 'save_to_html_file_args', 'type': 'object', 'additionalProperties': False}, on_invoke_tool=<function function_tool.<locals>._create_function_tool.<locals>._on_invoke_tool at 0x12d218b80>, strict_json_schema=True)"
      ]
     },
     "execution_count": 7,
     "metadata": {},
     "output_type": "execute_result"
    }
   ],
   "source": [
    "save_to_html_file"
   ]
  },
  {
   "cell_type": "code",
   "execution_count": 8,
   "id": "bf475abd",
   "metadata": {},
   "outputs": [],
   "source": [
    "subject_instructions = \"You can write a subject for a cold sales email. \\\n",
    "You are given a message and you need to write a subject for an email that is likely to get a response.\"\n",
    "\n",
    "html_instructions = \"You can convert a text email body to an HTML email body. \\\n",
    "You are given a text email body which might have some markdown \\\n",
    "and you need to convert it to an HTML email body with simple, clear, compelling layout and design.\"\n",
    "\n",
    "subject_writer = Agent(\n",
    "    name='Email subject writer',\n",
    "    instructions=subject_instructions,\n",
    "    model='gpt-4o-mini')\n",
    "\n",
    "subject_tool = subject_writer.as_tool(tool_name='subject_writer', tool_description='Write a subject for a cold sales email')\n",
    "\n",
    "html_converter = Agent(\n",
    "    name='Html email body converter',\n",
    "    instructions=html_instructions,\n",
    "    model='gpt-4o-mini'\n",
    ")\n",
    "\n",
    "html_tool = html_converter.as_tool(tool_name='html_converter', tool_description='Convert a text email body to an HTML email body')"
   ]
  },
  {
   "cell_type": "code",
   "execution_count": 9,
   "id": "b219fc54",
   "metadata": {},
   "outputs": [],
   "source": [
    "tools = [subject_tool, html_tool, save_to_html_file]"
   ]
  },
  {
   "cell_type": "code",
   "execution_count": 10,
   "id": "42d5b78d",
   "metadata": {},
   "outputs": [
    {
     "data": {
      "text/plain": [
       "[FunctionTool(name='subject_writer', description='Write a subject for a cold sales email', params_json_schema={'properties': {'input': {'title': 'Input', 'type': 'string'}}, 'required': ['input'], 'title': 'subject_writer_args', 'type': 'object', 'additionalProperties': False}, on_invoke_tool=<function function_tool.<locals>._create_function_tool.<locals>._on_invoke_tool at 0x12d2194e0>, strict_json_schema=True),\n",
       " FunctionTool(name='html_converter', description='Convert a text email body to an HTML email body', params_json_schema={'properties': {'input': {'title': 'Input', 'type': 'string'}}, 'required': ['input'], 'title': 'html_converter_args', 'type': 'object', 'additionalProperties': False}, on_invoke_tool=<function function_tool.<locals>._create_function_tool.<locals>._on_invoke_tool at 0x12d219620>, strict_json_schema=True),\n",
       " FunctionTool(name='save_to_html_file', description='', params_json_schema={'properties': {'content': {'title': 'Content', 'type': 'string'}, 'filename': {'default': 'output.html', 'title': 'Filename', 'type': 'string'}}, 'required': ['content', 'filename'], 'title': 'save_to_html_file_args', 'type': 'object', 'additionalProperties': False}, on_invoke_tool=<function function_tool.<locals>._create_function_tool.<locals>._on_invoke_tool at 0x12d218b80>, strict_json_schema=True)]"
      ]
     },
     "execution_count": 10,
     "metadata": {},
     "output_type": "execute_result"
    }
   ],
   "source": [
    "tools"
   ]
  },
  {
   "cell_type": "code",
   "execution_count": 11,
   "id": "ef81225b",
   "metadata": {},
   "outputs": [],
   "source": [
    "instruction =\"You are an email formatter and save the formatted email in a file. You receive the body of an email to be sent. \\\n",
    "    You first use the subject_writer tool to write a subject for the email, then use the html_converter tool to convert the body to HTML. \\\n",
    "    Finally, you use the save_to_html_file tool to save the email with the subject and HTML body in a file named 'output.html'\"\n",
    "\n",
    "emailer_agent = Agent(\n",
    "    name='Email Manager',\n",
    "    instructions=instruction,\n",
    "    tools=tools,\n",
    "    model='gpt-4o-mini',\n",
    "    handoff_description='Convert an email to html and save it'\n",
    ")"
   ]
  },
  {
   "cell_type": "code",
   "execution_count": 12,
   "id": "f8e47ead",
   "metadata": {},
   "outputs": [],
   "source": [
    "tools = [tool1, tool2, tool3]\n",
    "handoffs = [emailer_agent]"
   ]
  },
  {
   "cell_type": "code",
   "execution_count": 14,
   "id": "2b7f09ea",
   "metadata": {},
   "outputs": [
    {
     "name": "stdout",
     "output_type": "stream",
     "text": [
      "Content successfully written to output.html\n"
     ]
    }
   ],
   "source": [
    "sales_manager_instructions = \"You are a sales manager working for ComplAI. You use the tools given to you to generate cold sales emails. \\\n",
    "You never generate sales emails yourself; you always use the tools. \\\n",
    "You try all 3 sales agent tools at least once before choosing the best one. \\\n",
    "You can use the tools multiple times if you're not satisfied with the results from the first try. \\\n",
    "You select the single best email using your own judgement of which email will be most effective. \\\n",
    "After picking the email, you handoff to the Email Manager agent to format and save the email.\"\n",
    "\n",
    "sales_manager = Agent(\n",
    "    name='Sales Manager',\n",
    "    instructions=sales_manager_instructions,\n",
    "    tools=tools,\n",
    "    handoffs=handoffs,\n",
    "    model='gpt-4o-mini'\n",
    ")\n",
    "\n",
    "message = \"Send out a cold sales email addressed to Dear CEO from Alice\"\n",
    "\n",
    "with trace('Automated SDR'):\n",
    "    result = await Runner.run(sales_manager, message)"
   ]
  },
  {
   "cell_type": "code",
   "execution_count": null,
   "id": "714c3195",
   "metadata": {},
   "outputs": [],
   "source": []
  }
 ],
 "metadata": {
  "kernelspec": {
   "display_name": "agents",
   "language": "python",
   "name": "python3"
  },
  "language_info": {
   "codemirror_mode": {
    "name": "ipython",
    "version": 3
   },
   "file_extension": ".py",
   "mimetype": "text/x-python",
   "name": "python",
   "nbconvert_exporter": "python",
   "pygments_lexer": "ipython3",
   "version": "3.12.10"
  }
 },
 "nbformat": 4,
 "nbformat_minor": 5
}
