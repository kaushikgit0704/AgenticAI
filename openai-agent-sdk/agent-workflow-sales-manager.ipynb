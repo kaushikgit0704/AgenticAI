{
 "cells": [
  {
   "cell_type": "code",
   "execution_count": 16,
   "id": "9db33285",
   "metadata": {},
   "outputs": [],
   "source": [
    "from dotenv import load_dotenv\n",
    "from agents import Agent, Runner, trace, function_tool"
   ]
  },
  {
   "cell_type": "code",
   "execution_count": 2,
   "id": "dd43c887",
   "metadata": {},
   "outputs": [
    {
     "data": {
      "text/plain": [
       "True"
      ]
     },
     "execution_count": 2,
     "metadata": {},
     "output_type": "execute_result"
    }
   ],
   "source": [
    "load_dotenv(override=True)"
   ]
  },
  {
   "cell_type": "code",
   "execution_count": 3,
   "id": "bcdfe807",
   "metadata": {},
   "outputs": [],
   "source": [
    "instructions_agent_prof = 'You are a sales agent at ComplAI, \\\n",
    "    a company that provides a SaaS tool for ensuring SOC2 compliance and preparing for audits, powered by AI. \\\n",
    "    You write porfessional, serious cold emails that are likely to get a response.'\n",
    "\n",
    "instructions_agent_witty = 'You are a sales agent at ComplAI, \\\n",
    "    a company that provides a SaaS tool for ensuring SOC2 compliance and preparing for audits, powered by AI. \\\n",
    "    You write witty, engaging cold emails that are likely to get a response.'\n",
    "\n",
    "instructions_agent_concise = 'You are a sales agent at ComplAI, \\\n",
    "    a company that provides a SaaS tool for ensuring SOC2 compliance and preparing for audits, powered by AI. \\\n",
    "    You write concise, to the point cold emails.'"
   ]
  },
  {
   "cell_type": "code",
   "execution_count": 4,
   "id": "c88d9b54",
   "metadata": {},
   "outputs": [],
   "source": [
    "sales_agent_1 = Agent(\n",
    "    name='Professional Sales Agent',\n",
    "    instructions=instructions_agent_prof,\n",
    "    model='gpt-4o-mini'\n",
    ")\n",
    "\n",
    "sales_agent_2 = Agent(\n",
    "    name='Engaging Sales Agent',\n",
    "    instructions=instructions_agent_witty,\n",
    "    model='gpt-4o-mini'\n",
    ")\n",
    "\n",
    "sales_agent_3 = Agent(\n",
    "    name='Busy Sales Agent',\n",
    "    instructions=instructions_agent_concise,\n",
    "    model='gpt-4o-mini'\n",
    ")"
   ]
  },
  {
   "cell_type": "code",
   "execution_count": 12,
   "id": "31353703",
   "metadata": {},
   "outputs": [],
   "source": [
    "@function_tool\n",
    "def save_to_txt_file(content: str, filename: str = \"output_sm.txt\"):\n",
    "    try:\n",
    "        with open(filename, \"w\", encoding=\"utf-8\") as file:\n",
    "            file.write(content)\n",
    "        print(f\"Content successfully written to {filename}\")\n",
    "    except Exception as e:\n",
    "        print(f\"An error occurred while writing to the file: {e}\")"
   ]
  },
  {
   "cell_type": "code",
   "execution_count": 9,
   "id": "25c28794",
   "metadata": {},
   "outputs": [],
   "source": [
    "desc = 'Write a cold sales email'\n",
    "tool1 = sales_agent_1.as_tool(tool_name='sales_agent_1', tool_description=desc)\n",
    "tool2 = sales_agent_2.as_tool(tool_name='sales_agent_2', tool_description=desc)\n",
    "tool3 = sales_agent_3.as_tool(tool_name='sales_agent_3', tool_description=desc)\n",
    "\n",
    "tools = [tool1, tool2, tool3, save_to_txt_file]"
   ]
  },
  {
   "cell_type": "code",
   "execution_count": 10,
   "id": "acd2d655",
   "metadata": {},
   "outputs": [
    {
     "data": {
      "text/plain": [
       "[FunctionTool(name='sales_agent_1', description='Write a cold sales email', params_json_schema={'properties': {'input': {'title': 'Input', 'type': 'string'}}, 'required': ['input'], 'title': 'sales_agent_1_args', 'type': 'object', 'additionalProperties': False}, on_invoke_tool=<function function_tool.<locals>._create_function_tool.<locals>._on_invoke_tool at 0x11221f380>, strict_json_schema=True),\n",
       " FunctionTool(name='sales_agent_2', description='Write a cold sales email', params_json_schema={'properties': {'input': {'title': 'Input', 'type': 'string'}}, 'required': ['input'], 'title': 'sales_agent_2_args', 'type': 'object', 'additionalProperties': False}, on_invoke_tool=<function function_tool.<locals>._create_function_tool.<locals>._on_invoke_tool at 0x11221f6a0>, strict_json_schema=True),\n",
       " FunctionTool(name='sales_agent_3', description='Write a cold sales email', params_json_schema={'properties': {'input': {'title': 'Input', 'type': 'string'}}, 'required': ['input'], 'title': 'sales_agent_3_args', 'type': 'object', 'additionalProperties': False}, on_invoke_tool=<function function_tool.<locals>._create_function_tool.<locals>._on_invoke_tool at 0x11221f920>, strict_json_schema=True),\n",
       " FunctionTool(name='save_to_txt_file', description='', params_json_schema={'properties': {'content': {'title': 'Content', 'type': 'string'}, 'filename': {'default': 'output.txt', 'title': 'Filename', 'type': 'string'}}, 'required': ['content', 'filename'], 'title': 'save_to_txt_file_args', 'type': 'object', 'additionalProperties': False}, on_invoke_tool=<function function_tool.<locals>._create_function_tool.<locals>._on_invoke_tool at 0x11221e700>, strict_json_schema=True)]"
      ]
     },
     "execution_count": 10,
     "metadata": {},
     "output_type": "execute_result"
    }
   ],
   "source": [
    "tools"
   ]
  },
  {
   "cell_type": "code",
   "execution_count": 14,
   "id": "9e9f7ffb",
   "metadata": {},
   "outputs": [
    {
     "name": "stdout",
     "output_type": "stream",
     "text": [
      "Content successfully written to output_sm.txt\n",
      "Content successfully written to output_sm.txt\n",
      "Content successfully written to output_sm.txt\n",
      "RunResult:\n",
      "- Last agent: Agent(name=\"Sales Mamnager\", ...)\n",
      "- Final output (str):\n",
      "    I have generated three different cold sales emails. After reviewing them, the best option is the first one. I’ve saved it in a file named **output_sm.txt**.\n",
      "    \n",
      "    If you need any more assistance, let me know!\n",
      "- 13 new item(s)\n",
      "- 3 raw response(s)\n",
      "- 0 input guardrail result(s)\n",
      "- 0 output guardrail result(s)\n",
      "(See `RunResult` for more details)\n"
     ]
    }
   ],
   "source": [
    "instructions_sales_manager = 'You are a sales manager working for ComplAI. You use the tools given to you to generate cold sales email. \\\n",
    "    You never generate sales email yourself; you always use the tools. \\\n",
    "    You try all 3 sales_agent tools at least once to select the best email (and only the best email) to save in a file named output_sm.txt.'\n",
    "\n",
    "sales_manager_agent = Agent(\n",
    "    name='Sales Mamnager',\n",
    "    instructions=instructions_sales_manager,\n",
    "    model='gpt-4o-mini',\n",
    "    tools=tools\n",
    ")\n",
    "\n",
    "message = \"Send a cold email addressed to 'Dear CEO'\"\n",
    "\n",
    "with trace('Sales Manager'):\n",
    "    result = await Runner.run(sales_manager_agent, message)\n",
    "    print(result)"
   ]
  },
  {
   "cell_type": "code",
   "execution_count": null,
   "id": "0d9fe880",
   "metadata": {},
   "outputs": [],
   "source": []
  }
 ],
 "metadata": {
  "kernelspec": {
   "display_name": "agents",
   "language": "python",
   "name": "python3"
  },
  "language_info": {
   "codemirror_mode": {
    "name": "ipython",
    "version": 3
   },
   "file_extension": ".py",
   "mimetype": "text/x-python",
   "name": "python",
   "nbconvert_exporter": "python",
   "pygments_lexer": "ipython3",
   "version": "3.12.10"
  }
 },
 "nbformat": 4,
 "nbformat_minor": 5
}
