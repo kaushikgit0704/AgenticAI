{
 "cells": [
  {
   "cell_type": "code",
   "execution_count": null,
   "id": "7164bca7",
   "metadata": {},
   "outputs": [],
   "source": [
    "from agents import Agent, WebSearchTool, trace, Runner, gen_trace_id, function_tool\n",
    "from agents.model_settings import ModelSettings\n",
    "from pydantic import BaseModel, Field\n",
    "from dotenv import load_dotenv\n",
    "import asyncio\n",
    "import os\n",
    "from typing import Dict\n",
    "from IPython.display import display, Markdown"
   ]
  },
  {
   "cell_type": "code",
   "execution_count": null,
   "id": "68d18436",
   "metadata": {},
   "outputs": [],
   "source": [
    "load_dotenv(override=True)"
   ]
  },
  {
   "cell_type": "code",
   "execution_count": null,
   "id": "7b9360e3",
   "metadata": {},
   "outputs": [],
   "source": [
    "INSTRUCTIONS = \"You are a research assistant. Given a search term, you search the web for that term and \\\n",
    "produce a concise summary of the results. The summary must 2-3 paragraphs and less than 300 \\\n",
    "words. Capture the main points. Write succintly, no need to have complete sentences or good \\\n",
    "grammar. This will be consumed by someone synthesizing a report, so it's vital you capture the \\\n",
    "essence and ignore any fluff. Do not include any additional commentary other than the summary itself.\"\n",
    "\n",
    "search_agent = Agent(\n",
    "    name=\"Search agent\",\n",
    "    instructions=INSTRUCTIONS,\n",
    "    tools=[WebSearchTool(search_context_size=\"low\")],\n",
    "    model=\"gpt-4o-mini\",\n",
    "    model_settings=ModelSettings(tool_choice=\"required\"),\n",
    ")"
   ]
  },
  {
   "cell_type": "code",
   "execution_count": null,
   "id": "26be3566",
   "metadata": {},
   "outputs": [],
   "source": [
    "search_iteration = 3\n",
    "\n",
    "search_instructions = f\"You are a very helpful research assistant. \\\n",
    "                        Given a query, come up with a set of searches to perform the best regarding the answer to the query. \\\n",
    "                        Output {search_iteration} terms to query for.\"\n",
    "\n",
    "class WebSearchItem(BaseModel):\n",
    "    reason: str = Field(description='Your reasoning for why this search is important to the query.')\n",
    "    query: str = Field(description='The search term to use for the web search.')\n",
    "\n",
    "class WebSearchPlan(BaseModel):\n",
    "    searches: list[WebSearchItem] = Field(description='A list of web searches to best answer the query.')\n",
    "\n",
    "planner_agent = Agent(\n",
    "    name='PlannerAgent',\n",
    "    instructions=search_instructions,\n",
    "    model='gpt-4o-mini',\n",
    "    output_type=WebSearchPlan\n",
    ")"
   ]
  },
  {
   "cell_type": "code",
   "execution_count": null,
   "id": "3bcd9339",
   "metadata": {},
   "outputs": [],
   "source": [
    "message = 'Which penny stock can be invested upon at this time in Indian market'\n",
    "\n",
    "with trace('Search'):\n",
    "    result = await Runner.run(planner_agent, message)\n",
    "    print(result.final_output)"
   ]
  },
  {
   "cell_type": "code",
   "execution_count": null,
   "id": "a920cdbe",
   "metadata": {},
   "outputs": [],
   "source": [
    "report_instructions = (\n",
    "    \"You are a senior researcher tasked with writing a cohesive report for a research query. \"\n",
    "    \"You will be provided with the original query, and some initial research done by a research assistant.\\n\"\n",
    "    \"You should first come up with an outline for the report that describes the structure and \"\n",
    "    \"flow of the report. Then, generate the report and return that as your final output.\\n\"\n",
    "    \"The final output should be in markdown format, and it should be lengthy and detailed. Aim \"\n",
    "    \"for 5-10 pages of content, at least 1000 words.\"\n",
    ")\n",
    "\n",
    "class ReportData(BaseModel):\n",
    "    short_summary: str = Field(description='A short 2-3 sentence summary of the findings')\n",
    "    markdown_report: str = Field(description='The final report')\n",
    "    follow_up_questions: list[str] = Field(description='Suggested topics to research further')\n",
    "\n",
    "writer_agent = Agent(\n",
    "    name='ReportWriterAgent',\n",
    "    instructions=report_instructions,\n",
    "    model='gpt-4o-mini',\n",
    "    output_type=ReportData\n",
    ")"
   ]
  },
  {
   "cell_type": "code",
   "execution_count": null,
   "id": "386a54dd",
   "metadata": {},
   "outputs": [],
   "source": [
    "@function_tool\n",
    "def save_to_html_file(content: str, filename: str = \"MarketResearchReport.html\"):\n",
    "    try:\n",
    "        with open(filename, \"w\", encoding=\"utf-8\") as file:\n",
    "            file.write(content)\n",
    "        print(f\"Content successfully written to {filename}\")\n",
    "    except Exception as e:\n",
    "        print(f\"An error occurred while writing to the file: {e}\")"
   ]
  },
  {
   "cell_type": "code",
   "execution_count": null,
   "id": "4609be7a",
   "metadata": {},
   "outputs": [],
   "source": [
    "save_report_instructions = \"\"\"You are able to save a detailed report in a nicely formatted way.\n",
    "    You will be provided with a detailed report. You should use your tool to save the report, \n",
    "    providing the report converted into clean, well presented HTML with appropriate subject header.\"\"\"\n",
    "\n",
    "save_report_agent = Agent(\n",
    "    name='SaveReportAgent',\n",
    "    instructions=save_report_instructions,\n",
    "    tools=[save_to_html_file],\n",
    "    model='gpt-4o-mini'\n",
    ")"
   ]
  },
  {
   "cell_type": "code",
   "execution_count": null,
   "id": "6e5effdd",
   "metadata": {},
   "outputs": [],
   "source": [
    "async def plan_searches(query: str):\n",
    "    print('Planning searches...')\n",
    "    result = await Runner.run(planner_agent, f'query: {query}')\n",
    "    print(f'Will perform {len(result.final_output.searches)} searches')\n",
    "    return result.final_output\n",
    "\n",
    "async def perform_searches(searchPlan: WebSearchPlan):\n",
    "    print('Searching...')\n",
    "    tasks = [asyncio.create_task(search(item)) for item in searchPlan.searches]\n",
    "    results = await asyncio.gather(*tasks)\n",
    "    print('Finished Searching')\n",
    "    return results\n",
    "\n",
    "async def search(item: WebSearchItem):\n",
    "    input = 'Search term: {item.query}\\n Reason for searching: {item.reason}'\n",
    "    result = await Runner.run(search_agent, input)\n",
    "    return result.final_output\n",
    "\n",
    "async def write_report(query: str, search_results: list[str]):\n",
    "    \"\"\" Use the writer agent to write a report based on the search results\"\"\"\n",
    "    print(\"Thinking about report...\")\n",
    "    input = f\"Original query: {query}\\nSummarized search results: {search_results}\"\n",
    "    result = await Runner.run(writer_agent, input)\n",
    "    print(\"Finished writing report\")\n",
    "    return result.final_output\n",
    "\n",
    "async def save_report_to_file(report: ReportData):\n",
    "    print('Saving report...')\n",
    "    result = await Runner.run(save_report_agent, report.markdown_report)\n",
    "    print('Report created')\n",
    "    return report"
   ]
  },
  {
   "cell_type": "code",
   "execution_count": null,
   "id": "7e09e5dc",
   "metadata": {},
   "outputs": [],
   "source": [
    "query = 'Which penny stock can be invested upon at this time in Indian market'\n",
    "\n",
    "with trace('Research trace'):\n",
    "    print('Starting research...')\n",
    "    search_plan = await plan_searches(query)\n",
    "    search_result = await perform_searches(search_plan)\n",
    "    report = await write_report(query, search_result)\n",
    "    await save_report_to_file(report)\n",
    "    print('Report Created')"
   ]
  },
  {
   "cell_type": "code",
   "execution_count": null,
   "id": "28204265",
   "metadata": {},
   "outputs": [],
   "source": []
  }
 ],
 "metadata": {
  "kernelspec": {
   "display_name": "agents",
   "language": "python",
   "name": "python3"
  },
  "language_info": {
   "codemirror_mode": {
    "name": "ipython",
    "version": 3
   },
   "file_extension": ".py",
   "mimetype": "text/x-python",
   "name": "python",
   "nbconvert_exporter": "python",
   "pygments_lexer": "ipython3",
   "version": "3.12.10"
  }
 },
 "nbformat": 4,
 "nbformat_minor": 5
}
