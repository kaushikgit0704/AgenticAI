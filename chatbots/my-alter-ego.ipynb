{
 "cells": [
  {
   "cell_type": "code",
   "execution_count": 1,
   "metadata": {},
   "outputs": [],
   "source": [
    "from dotenv import load_dotenv\n",
    "from openai import OpenAI\n",
    "from pypdf import PdfReader\n",
    "import gradio as gr"
   ]
  },
  {
   "cell_type": "code",
   "execution_count": 2,
   "metadata": {},
   "outputs": [
    {
     "data": {
      "text/plain": [
       "True"
      ]
     },
     "execution_count": 2,
     "metadata": {},
     "output_type": "execute_result"
    }
   ],
   "source": [
    "load_dotenv(override=True)"
   ]
  },
  {
   "cell_type": "code",
   "execution_count": 3,
   "metadata": {},
   "outputs": [],
   "source": [
    "openai = OpenAI()"
   ]
  },
  {
   "cell_type": "code",
   "execution_count": 4,
   "metadata": {},
   "outputs": [],
   "source": [
    "pdfreader = PdfReader('linkedin.pdf')\n",
    "linkedin = ''\n",
    "for page in pdfreader.pages:\n",
    "    text = page.extract_text()\n",
    "    if text:\n",
    "        linkedin += text\n",
    "\n",
    "\n",
    "\n"
   ]
  },
  {
   "cell_type": "code",
   "execution_count": 5,
   "metadata": {},
   "outputs": [
    {
     "name": "stdout",
     "output_type": "stream",
     "text": [
      "   \n",
      "Contact\n",
      "Shree Apartment. Flat No 303. 1,\n",
      "Jnanendra Avenue.\n",
      "9748410639 (Mobile)\n",
      "ks.dreamzunlimited@gmail.co\n",
      "m\n",
      "www.linkedin.com/in/\n",
      "kaushiksahoo0704 (LinkedIn)\n",
      "Top Skills\n",
      "Algorithms\n",
      "Product Development\n",
      "Software Development\n",
      "Kaushik Sahoo\n",
      "AWS| .Net Full Stack| Microservices\n",
      "Greater Kolkata Area\n",
      "Summary\n",
      "More than 10 years of hands-on experience providing IT solutions for\n",
      "leading Banking and Financial Enterprises.\n",
      "Have hands on experience in design and developing applications\n",
      "using AWS cloud services like S3, Lambda, API Gateway, \n",
      "SQS, SNS, Cloudformation, Cloudwatch, Dynamo DB, Athena and\n",
      "Dot Net Core.\n",
      "Worked through all the phases of SDLC. Managed development\n",
      "teams spread across multiple locations globally.\n",
      "Business and domain knowledge include Brokerage and Advisory\n",
      "Business, Card and Payments, Fuel Card, Banking and Financial\n",
      "Services.\n",
      "Have a good understanding of SOLID and object-oriented concepts\n",
      "with application architecture, design patterns and Micro services.\n",
      "Have experience in design and develop using various technologies\n",
      "like C#, .Net Core, MVC, JavaScript, TypeScript, HTML, ASP.Net\n",
      "and Unit Tests using NUnit and MOQ frameworks. Worked with\n",
      "SOAP and REST based services using WCF and \n",
      "Web API. Experience in building Single Page Applications (SPA)\n",
      "with Angular. \n",
      "Worked extensively in SAFe Agile using Scrum and methodologies.\n",
      "Experience\n",
      "Cognizant\n",
      "13 years\n",
      "Technical Manager\n",
      "March 2021 - Present (4 years 3 months)\n",
      "West Bengal, India\n",
      "Senior Associate - Application Architect, Banking And Financial\n",
      "Services\n",
      "June 2012 - Present (13 years)\n",
      "Kolkata Area, India\n",
      "  Page 1 of 2   \n",
      "Design, Development and Maintenance of various Banking and Financial\n",
      "products.\n",
      "Tata Elxsi\n",
      "Senior Engineer, Wireless Business Unit\n",
      "March 2009 - June 2012 (3 years 4 months)\n",
      "Bangalore\n",
      "Design and Development of Wireless Protocol Stacks based on IEEE 802.16e\n",
      "WiMAX and 3GPP Long Term Evolution Protocol.\n",
      "Experienced in development in the Base Station (WiMAX and LTE), Mobile\n",
      "Station (WiMAX) and Access Service Network side (WiMAX). Have been part\n",
      "of development of features like Network Entry, Mobility, Idle Mode, Sleep Mode\n",
      "etc.\n",
      "Education\n",
      "Narula Institute of Technology\n",
      "B-Tech, Computer Science and Engineering · (2004 - 2008)\n",
      "  Page 2 of 2\n"
     ]
    }
   ],
   "source": [
    "print(linkedin)"
   ]
  },
  {
   "cell_type": "code",
   "execution_count": 6,
   "metadata": {},
   "outputs": [],
   "source": [
    "with open('summary.txt', 'r', encoding='utf-8') as file:\n",
    "    summary = file.read()"
   ]
  },
  {
   "cell_type": "code",
   "execution_count": 7,
   "metadata": {},
   "outputs": [
    {
     "name": "stdout",
     "output_type": "stream",
     "text": [
      "My name is Kaushik Sahoo. I'm a software engineer. I'm from Kolkata, India.\n",
      "I love all foods, particularly Indian food, but strangely I'm repelled by almost all forms of vegetables. I'm not allergic, I just hate the taste! I make an exception for potatotes.\n"
     ]
    }
   ],
   "source": [
    "print(summary)"
   ]
  },
  {
   "cell_type": "code",
   "execution_count": 8,
   "metadata": {},
   "outputs": [],
   "source": [
    "name = 'Kaushik Sahoo'"
   ]
  },
  {
   "cell_type": "code",
   "execution_count": 17,
   "metadata": {},
   "outputs": [],
   "source": [
    "system_prompt = f'''\n",
    "You are acting as {name}. You are answering questions on {name}'s website, \\\n",
    "particularly questions about {name}'s career, background, experience and skills. \\\n",
    "Your responsibility is to represent {name} for interactions on the website as faithfully as possible. \\\n",
    "You are given a summary of {name}'s background and Linkedin profile which you can use to answer questions. \\\n",
    "Be professional and engaging, as if talking to a potential client or future employer who came across the website. \\\n",
    "You must greet every user as {name} and with a very smaill introduction as {name} at the beginning of the conversation. \\\n",
    "If you do not know an answer please politely say so\n",
    "'''\n",
    "system_prompt += f'\\n\\n## Summary: {summary}\\n\\n## LinkedIn Profile: {linkedin}\\n\\n'\n",
    "system_prompt += f'With this context, please chat with the user, always stay in character as {name}'"
   ]
  },
  {
   "cell_type": "code",
   "execution_count": 10,
   "metadata": {},
   "outputs": [
    {
     "name": "stdout",
     "output_type": "stream",
     "text": [
      "\n",
      "You are acting as Kaushik Sahoo. You are answering questions on Kaushik Sahoo's website, particularly questions about Kaushik Sahoo's career, background, experience and skills. Your responsibility is to represent Kaushik Sahoo for interactions on the website as faithfully as possible. You are given a summary of Kaushik Sahoo's background and Linkedin profile which you can use to answer questions. Be professional and engaging, as if talking to a potential client or future employer who came across the website. If you do not know an answer please politely say so\n",
      "\n",
      "\n",
      "## Summary: My name is Kaushik Sahoo. I'm a software engineer. I'm from Kolkata, India.\n",
      "I love all foods, particularly Indian food, but strangely I'm repelled by almost all forms of vegetables. I'm not allergic, I just hate the taste! I make an exception for potatotes.\n",
      "\n",
      "## LinkedIn Profile:    \n",
      "Contact\n",
      "Shree Apartment. Flat No 303. 1,\n",
      "Jnanendra Avenue.\n",
      "9748410639 (Mobile)\n",
      "ks.dreamzunlimited@gmail.co\n",
      "m\n",
      "www.linkedin.com/in/\n",
      "kaushiksahoo0704 (LinkedIn)\n",
      "Top Skills\n",
      "Algorithms\n",
      "Product Development\n",
      "Software Development\n",
      "Kaushik Sahoo\n",
      "AWS| .Net Full Stack| Microservices\n",
      "Greater Kolkata Area\n",
      "Summary\n",
      "More than 10 years of hands-on experience providing IT solutions for\n",
      "leading Banking and Financial Enterprises.\n",
      "Have hands on experience in design and developing applications\n",
      "using AWS cloud services like S3, Lambda, API Gateway, \n",
      "SQS, SNS, Cloudformation, Cloudwatch, Dynamo DB, Athena and\n",
      "Dot Net Core.\n",
      "Worked through all the phases of SDLC. Managed development\n",
      "teams spread across multiple locations globally.\n",
      "Business and domain knowledge include Brokerage and Advisory\n",
      "Business, Card and Payments, Fuel Card, Banking and Financial\n",
      "Services.\n",
      "Have a good understanding of SOLID and object-oriented concepts\n",
      "with application architecture, design patterns and Micro services.\n",
      "Have experience in design and develop using various technologies\n",
      "like C#, .Net Core, MVC, JavaScript, TypeScript, HTML, ASP.Net\n",
      "and Unit Tests using NUnit and MOQ frameworks. Worked with\n",
      "SOAP and REST based services using WCF and \n",
      "Web API. Experience in building Single Page Applications (SPA)\n",
      "with Angular. \n",
      "Worked extensively in SAFe Agile using Scrum and methodologies.\n",
      "Experience\n",
      "Cognizant\n",
      "13 years\n",
      "Technical Manager\n",
      "March 2021 - Present (4 years 3 months)\n",
      "West Bengal, India\n",
      "Senior Associate - Application Architect, Banking And Financial\n",
      "Services\n",
      "June 2012 - Present (13 years)\n",
      "Kolkata Area, India\n",
      "  Page 1 of 2   \n",
      "Design, Development and Maintenance of various Banking and Financial\n",
      "products.\n",
      "Tata Elxsi\n",
      "Senior Engineer, Wireless Business Unit\n",
      "March 2009 - June 2012 (3 years 4 months)\n",
      "Bangalore\n",
      "Design and Development of Wireless Protocol Stacks based on IEEE 802.16e\n",
      "WiMAX and 3GPP Long Term Evolution Protocol.\n",
      "Experienced in development in the Base Station (WiMAX and LTE), Mobile\n",
      "Station (WiMAX) and Access Service Network side (WiMAX). Have been part\n",
      "of development of features like Network Entry, Mobility, Idle Mode, Sleep Mode\n",
      "etc.\n",
      "Education\n",
      "Narula Institute of Technology\n",
      "B-Tech, Computer Science and Engineering · (2004 - 2008)\n",
      "  Page 2 of 2\n",
      "\n",
      "With this context, please chat with the user, always stay in character as Kaushik Sahoo\n"
     ]
    }
   ],
   "source": [
    "print(system_prompt)"
   ]
  },
  {
   "cell_type": "code",
   "execution_count": 15,
   "metadata": {},
   "outputs": [],
   "source": [
    "def chat(message, history):\n",
    "    messages = [{'role':'system', 'content':system_prompt}] + history + [{'role':'user', 'content':message}]\n",
    "    response = openai.chat.completions.create(\n",
    "        model='gpt-4o-mini',\n",
    "        messages=messages)\n",
    "    return response.choices[0].message.content\n",
    "        "
   ]
  },
  {
   "cell_type": "code",
   "execution_count": 18,
   "metadata": {},
   "outputs": [
    {
     "name": "stdout",
     "output_type": "stream",
     "text": [
      "* Running on local URL:  http://127.0.0.1:7865\n",
      "* To create a public link, set `share=True` in `launch()`.\n"
     ]
    },
    {
     "data": {
      "text/html": [
       "<div><iframe src=\"http://127.0.0.1:7865/\" width=\"100%\" height=\"500\" allow=\"autoplay; camera; microphone; clipboard-read; clipboard-write;\" frameborder=\"0\" allowfullscreen></iframe></div>"
      ],
      "text/plain": [
       "<IPython.core.display.HTML object>"
      ]
     },
     "metadata": {},
     "output_type": "display_data"
    },
    {
     "data": {
      "text/plain": []
     },
     "execution_count": 18,
     "metadata": {},
     "output_type": "execute_result"
    }
   ],
   "source": [
    "gr.ChatInterface(chat, type='messages').launch()"
   ]
  }
 ],
 "metadata": {
  "kernelspec": {
   "display_name": ".venv",
   "language": "python",
   "name": "python3"
  },
  "language_info": {
   "codemirror_mode": {
    "name": "ipython",
    "version": 3
   },
   "file_extension": ".py",
   "mimetype": "text/x-python",
   "name": "python",
   "nbconvert_exporter": "python",
   "pygments_lexer": "ipython3",
   "version": "3.12.10"
  }
 },
 "nbformat": 4,
 "nbformat_minor": 2
}
